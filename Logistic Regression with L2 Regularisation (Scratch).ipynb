{
 "cells": [
  {
   "cell_type": "markdown",
   "metadata": {},
   "source": [
    "# Review analysis using Logistic Regression from scratch"
   ]
  },
  {
   "cell_type": "code",
   "execution_count": 12,
   "metadata": {},
   "outputs": [
    {
     "name": "stdout",
     "output_type": "stream",
     "text": [
      "Libraries imported\n"
     ]
    }
   ],
   "source": [
    "import pandas as pd\n",
    "import numpy as np\n",
    "import math\n",
    "import json\n",
    "from sklearn.model_selection import train_test_split as tts\n",
    "import matplotlib.pyplot as plt\n",
    "\n",
    "print(\"Libraries imported\")"
   ]
  },
  {
   "cell_type": "code",
   "execution_count": 9,
   "metadata": {},
   "outputs": [
    {
     "name": "stdout",
     "output_type": "stream",
     "text": [
      "                                                name  \\\n",
      "0  Stop Pacifier Sucking without tears with Thumb...   \n",
      "1    Nature's Lullabies Second Year Sticker Calendar   \n",
      "2    Nature's Lullabies Second Year Sticker Calendar   \n",
      "3                        Lamaze Peekaboo, I Love You   \n",
      "4  SoftPlay Peek-A-Boo Where's Elmo A Children's ...   \n",
      "\n",
      "                                              review  rating  sentiment  \n",
      "0  All of my kids have cried non-stop when I trie...       5          1  \n",
      "1  We wanted to get something to keep track of ou...       5          1  \n",
      "2  My daughter had her 1st baby over a year ago. ...       5          1  \n",
      "3  One of baby's first and favorite books, and it...       4          1  \n",
      "4  Very cute interactive book! My son loves this ...       5          1  \n",
      "The columns are ['name', 'review', 'rating', 'sentiment']\n",
      "shape of dataset is (53072, 4)\n"
     ]
    }
   ],
   "source": [
    "products=pd.read_csv(r\"amazon_baby_subset.csv\")\n",
    "print(products.head())\n",
    "print(\"The columns are\",products.columns.tolist()); print(\"shape of dataset is\",products.shape)"
   ]
  },
  {
   "cell_type": "markdown",
   "metadata": {},
   "source": [
    "### Feature Engineering"
   ]
  },
  {
   "cell_type": "code",
   "execution_count": 39,
   "metadata": {},
   "outputs": [
    {
     "name": "stdout",
     "output_type": "stream",
     "text": [
      "The words we are considering are ['baby', 'one', 'great', 'love', 'use', 'would', 'like', 'easy', 'little', 'seat', 'old', 'well', 'get', 'also', 'really', 'son', 'time', 'bought', 'product', 'good', 'daughter', 'much', 'loves', 'stroller', 'put', 'months', 'car', 'still', 'back', 'used', 'recommend', 'first', 'even', 'perfect', 'nice', 'bag', 'two', 'using', 'got', 'fit', 'around', 'diaper', 'enough', 'month', 'price', 'go', 'could', 'soft', 'since', 'buy', 'room', 'works', 'made', 'child', 'keep', 'size', 'small', 'need', 'year', 'big', 'make', 'take', 'easily', 'think', 'crib', 'clean', 'way', 'quality', 'thing', 'better', 'without', 'set', 'new', 'every', 'cute', 'best', 'bottles', 'work', 'purchased', 'right', 'lot', 'side', 'happy', 'comfortable', 'toy', 'able', 'kids', 'bit', 'night', 'long', 'fits', 'see', 'us', 'another', 'play', 'day', 'money', 'monitor', 'tried', 'thought', 'never', 'item', 'hard', 'plastic', 'however', 'disappointed', 'reviews', 'something', 'going', 'pump', 'bottle', 'cup', 'waste', 'return', 'amazon', 'different', 'top', 'want', 'problem', 'know', 'water', 'try', 'received', 'sure', 'times', 'chair', 'find', 'hold', 'gate', 'open', 'bottom', 'away', 'actually', 'cheap', 'worked', 'getting', 'ordered', 'came', 'milk', 'bad', 'part', 'worth', 'found', 'cover', 'many', 'design', 'looking', 'weeks', 'say', 'wanted', 'look', 'place', 'purchase', 'looks', 'second', 'piece', 'box', 'pretty', 'trying', 'difficult', 'together', 'though', 'give', 'started', 'anything', 'last', 'company', 'come', 'returned', 'maybe', 'took', 'broke', 'makes', 'stay', 'instead', 'idea', 'head', 'said', 'less', 'went', 'working', 'high', 'unit', 'seems', 'picture', 'completely', 'wish', 'buying', 'babies', 'won', 'tub', 'almost', 'either']\n",
      "                                                name  \\\n",
      "0  Stop Pacifier Sucking without tears with Thumb...   \n",
      "1    Nature's Lullabies Second Year Sticker Calendar   \n",
      "2    Nature's Lullabies Second Year Sticker Calendar   \n",
      "3                        Lamaze Peekaboo, I Love You   \n",
      "4  SoftPlay Peek-A-Boo Where's Elmo A Children's ...   \n",
      "\n",
      "                                              review  rating  sentiment  \\\n",
      "0  All of my kids have cried non-stop when I trie...       5          1   \n",
      "1  We wanted to get something to keep track of ou...       5          1   \n",
      "2  My daughter had her 1st baby over a year ago. ...       5          1   \n",
      "3  One of baby's first and favorite books, and it...       4          1   \n",
      "4  Very cute interactive book! My son loves this ...       5          1   \n",
      "\n",
      "                                        review_clean  baby  one  great  love  \\\n",
      "0  All of my kids have cried nonstop when I tried...     0    0      1     0   \n",
      "1  We wanted to get something to keep track of ou...     0    0      0     0   \n",
      "2  My daughter had her 1st baby over a year ago S...     1    0      0     0   \n",
      "3  One of babys first and favorite books and it i...     0    0      0     0   \n",
      "4  Very cute interactive book My son loves this b...     0    0      1     0   \n",
      "\n",
      "   use  ...  seems  picture  completely  wish  buying  babies  won  tub  \\\n",
      "0    0  ...      0        0           0     0       0       0    0    0   \n",
      "1    0  ...      0        0           0     0       0       0    0    0   \n",
      "2    0  ...      0        0           0     0       0       0    0    0   \n",
      "3    0  ...      0        0           0     0       0       0    0    0   \n",
      "4    0  ...      0        0           0     0       0       1    0    0   \n",
      "\n",
      "   almost  either  \n",
      "0       0       0  \n",
      "1       0       0  \n",
      "2       0       0  \n",
      "3       0       0  \n",
      "4       0       0  \n",
      "\n",
      "[5 rows x 198 columns]\n",
      "number of reviews with the word perfect is 2955\n"
     ]
    }
   ],
   "source": [
    "products=products.fillna({'review':''})     #filling null values in review column\n",
    "\n",
    "#removing punctuation from text\n",
    "def remove_punc(text):\n",
    "    import string\n",
    "    table=text.maketrans(\"\",\"\",string.punctuation)\n",
    "    return text.translate(table)\n",
    "\n",
    "products['review_clean']=products['review'].apply(remove_punc)\n",
    "\n",
    "#Using few important words for the purpose of our work.\n",
    "tmp1=open(r\"important_words.json\",)\n",
    "important_words=json.load(tmp1)\n",
    "print(\"The words we are considering are\",important_words)\n",
    "\n",
    "#Counting the frequency of these important words in each review.\n",
    "for word in important_words:\n",
    "    products[word]=products['review_clean'].apply(lambda s: s.split().count(word))\n",
    "print(products.head())\n",
    "\n",
    "#Taking an example:\n",
    "#number of reviews with word perfect\n",
    "sum=0\n",
    "for i in products['perfect']:\n",
    "    if i!=0:\n",
    "        sum=sum+1\n",
    "print('number of reviews with the word perfect is',sum)\n"
   ]
  },
  {
   "cell_type": "code",
   "execution_count": 13,
   "metadata": {},
   "outputs": [],
   "source": [
    "#Train-test Split\n",
    "train_data,test_data=tts(products,test_size=0.2)"
   ]
  },
  {
   "cell_type": "code",
   "execution_count": 15,
   "metadata": {},
   "outputs": [
    {
     "name": "stderr",
     "output_type": "stream",
     "text": [
      "/root/anaconda3/lib/python3.7/site-packages/ipykernel_launcher.py:3: SettingWithCopyWarning: \n",
      "A value is trying to be set on a copy of a slice from a DataFrame.\n",
      "Try using .loc[row_indexer,col_indexer] = value instead\n",
      "\n",
      "See the caveats in the documentation: http://pandas.pydata.org/pandas-docs/stable/user_guide/indexing.html#returning-a-view-versus-a-copy\n",
      "  This is separate from the ipykernel package so we can avoid doing imports until\n"
     ]
    }
   ],
   "source": [
    "#converting to matrices\n",
    "def tomultiarray(dataframe,features,label):\n",
    "    dataframe['intercept']=1\n",
    "    tmp4=dataframe.columns.tolist()\n",
    "    tmp4=tmp4[-1:]+tmp4[:-1]\n",
    "    dataframe=dataframe[tmp4]\n",
    "    \n",
    "    \n",
    "    if features[0]!=('intercept'):\n",
    "        features.insert(0,'intercept')\n",
    "    \n",
    "    \n",
    "    featureframe=dataframe[features]\n",
    "    feature_matrix_test=featureframe.to_numpy()\n",
    "    featureframe=dataframe[label]\n",
    "    label_array=featureframe.to_numpy()\n",
    "    \n",
    "    return feature_matrix_test,label_array\n",
    "\n",
    "feature_matrix_train,sentiment_train=tomultiarray(train_data,important_words,'sentiment')\n",
    "feature_matrix_test,sentiment_test=tomultiarray(test_data,important_words,'sentiment')\n"
   ]
  },
  {
   "cell_type": "markdown",
   "metadata": {},
   "source": [
    "### Logistic Regression functions"
   ]
  },
  {
   "cell_type": "code",
   "execution_count": 17,
   "metadata": {},
   "outputs": [],
   "source": [
    "#Link Function\n",
    "\n",
    "def predict_prob(feature_matrix,coefficients):\n",
    "    score=np.dot(feature_matrix,coefficients)\n",
    "    prob=1/(1+(np.exp(-score)))\n",
    "    return prob"
   ]
  },
  {
   "cell_type": "code",
   "execution_count": 18,
   "metadata": {},
   "outputs": [],
   "source": [
    "#L2 regualrised derivative for each feature (word)\n",
    "\n",
    "def feature_derivative_with_L2(errors,feature,coefficient,l2_penalty,feature_is_constant):\n",
    "    tmp1=np.dot(errors,feature)\n",
    "    tmp2=2*l2_penalty*coefficient\n",
    "    derivative=tmp1-tmp2\n",
    "    if feature_is_constant:\n",
    "        #print(\"feature_is_constant\")\n",
    "        derivative=derivative+tmp2\n",
    "    #print(\"derivative is\",derivative)     \n",
    "    return derivative"
   ]
  },
  {
   "cell_type": "code",
   "execution_count": 19,
   "metadata": {},
   "outputs": [],
   "source": [
    "#L2 regualrised computation of log-likelihood value\n",
    "\n",
    "def compute_log_likelihood_with_L2(feature_matrix,sentiment,coefficients,L2penalty):\n",
    "    indicator=(sentiment==1)\n",
    "    score=np.dot(feature_matrix,coefficients)\n",
    "    '''norm=0\n",
    "    for j in range(len(coefficients)):\n",
    "        while j!=0:\n",
    "            norm=norm+coefficients[j]**2'''\n",
    "    ll=np.sum((indicator-1)*score-np.log(1+np.exp(-score)))-L2penalty*np.sum(coefficients[1:]**2)\n",
    "    return ll"
   ]
  },
  {
   "cell_type": "markdown",
   "metadata": {},
   "source": [
    "### Defining the L2 Regularised Logistic Regression Function"
   ]
  },
  {
   "cell_type": "code",
   "execution_count": 20,
   "metadata": {},
   "outputs": [],
   "source": [
    "def logistic_regression_with_L2(feature_matrix,sentiment,initial_coefficients,step_size,penalty,max_iter):\n",
    "    coefficients=np.array(initial_coefficients)\n",
    "    for i in range(max_iter):\n",
    "        predictions=predict_prob(feature_matrix,coefficients)\n",
    "        indicator=(sentiment==1)\n",
    "        errors=indicator-predictions\n",
    "        for j in range(len(coefficients)):\n",
    "            is_intercept=(j==0)\n",
    "            derivative=feature_derivative_with_L2(errors,feature_matrix[:,j],coefficients[j],penalty,is_intercept)\n",
    "            \n",
    "            #updating coefficients\n",
    "            coefficients[j]=coefficients[j]+(step_size*derivative)\n",
    "            \n",
    "        if i<=15 or (i<=100 and i%10==0) or (i<=1000 and i%100==0) or (i<=10000 and i%1000==0):\n",
    "            tmp3=compute_log_likelihood_with_L2(feature_matrix,sentiment,coefficients,penalty)\n",
    "            print(\"Iteration %d: Log-Likelihood of labels = %0.8f\" % (i,tmp3))\n",
    "            \n",
    "    return coefficients\n"
   ]
  },
  {
   "cell_type": "code",
   "execution_count": 37,
   "metadata": {},
   "outputs": [
    {
     "name": "stdout",
     "output_type": "stream",
     "text": [
      "Iteration 0: Log-Likelihood of labels = -29247.03530455\n",
      "Iteration 1: Log-Likelihood of labels = -29072.31160088\n",
      "Iteration 2: Log-Likelihood of labels = -28904.13313856\n",
      "Iteration 3: Log-Likelihood of labels = -28742.00609977\n",
      "Iteration 4: Log-Likelihood of labels = -28585.53286468\n",
      "Iteration 5: Log-Likelihood of labels = -28434.37888017\n",
      "Iteration 6: Log-Likelihood of labels = -28288.25274733\n",
      "Iteration 7: Log-Likelihood of labels = -28146.89406667\n",
      "Iteration 8: Log-Likelihood of labels = -28010.06586597\n",
      "Iteration 9: Log-Likelihood of labels = -27877.54976641\n",
      "Iteration 10: Log-Likelihood of labels = -27749.14280389\n",
      "Iteration 11: Log-Likelihood of labels = -27624.65526089\n",
      "Iteration 12: Log-Likelihood of labels = -27503.90912154\n",
      "Iteration 13: Log-Likelihood of labels = -27386.73691578\n",
      "Iteration 14: Log-Likelihood of labels = -27272.98081079\n",
      "Iteration 15: Log-Likelihood of labels = -27162.49186364\n",
      "Iteration 20: Log-Likelihood of labels = -26654.38919230\n",
      "Iteration 30: Log-Likelihood of labels = -25817.17856085\n",
      "Iteration 40: Log-Likelihood of labels = -25154.18111855\n",
      "Iteration 50: Log-Likelihood of labels = -24614.35879800\n",
      "Iteration 60: Log-Likelihood of labels = -24164.93672819\n",
      "Iteration 70: Log-Likelihood of labels = -23783.96076555\n",
      "Iteration 80: Log-Likelihood of labels = -23456.17589273\n",
      "Iteration 90: Log-Likelihood of labels = -23170.64222888\n",
      "Iteration 100: Log-Likelihood of labels = -22919.29863677\n",
      "Iteration 200: Log-Likelihood of labels = -21421.10831894\n",
      "Iteration 300: Log-Likelihood of labels = -20711.39678935\n",
      "Iteration 400: Log-Likelihood of labels = -20292.38633478\n",
      "Iteration 500: Log-Likelihood of labels = -20015.74296997\n",
      "Iteration 0: Log-Likelihood of labels = -29247.03898041\n",
      "Iteration 1: Log-Likelihood of labels = -29072.33305948\n",
      "Iteration 2: Log-Likelihood of labels = -28904.18540197\n",
      "Iteration 3: Log-Likelihood of labels = -28742.10123974\n",
      "Iteration 4: Log-Likelihood of labels = -28585.68210006\n",
      "Iteration 5: Log-Likelihood of labels = -28434.59265307\n",
      "Iteration 6: Log-Likelihood of labels = -28288.54078647\n",
      "Iteration 7: Log-Likelihood of labels = -28147.26544241\n",
      "Iteration 8: Log-Likelihood of labels = -28010.52903951\n",
      "Iteration 9: Log-Likelihood of labels = -27878.11263458\n",
      "Iteration 10: Log-Likelihood of labels = -27749.81274021\n",
      "Iteration 11: Log-Likelihood of labels = -27625.43915339\n",
      "Iteration 12: Log-Likelihood of labels = -27504.81340769\n",
      "Iteration 13: Log-Likelihood of labels = -27387.76761468\n",
      "Iteration 14: Log-Likelihood of labels = -27274.14355286\n",
      "Iteration 15: Log-Likelihood of labels = -27163.79191804\n",
      "Iteration 20: Log-Likelihood of labels = -26656.44386230\n",
      "Iteration 30: Log-Likelihood of labels = -25820.98791143\n",
      "Iteration 40: Log-Likelihood of labels = -25159.94091147\n",
      "Iteration 50: Log-Likelihood of labels = -24622.17151194\n",
      "Iteration 60: Log-Likelihood of labels = -24174.85182362\n",
      "Iteration 70: Log-Likelihood of labels = -23795.99614070\n",
      "Iteration 80: Log-Likelihood of labels = -23470.33000327\n",
      "Iteration 90: Log-Likelihood of labels = -23186.90127235\n",
      "Iteration 100: Log-Likelihood of labels = -22937.64098363\n",
      "Iteration 200: Log-Likelihood of labels = -21458.57239418\n",
      "Iteration 300: Log-Likelihood of labels = -20764.93440393\n",
      "Iteration 400: Log-Likelihood of labels = -20359.58653405\n",
      "Iteration 500: Log-Likelihood of labels = -20094.73140585\n",
      "Iteration 0: Log-Likelihood of labels = -29247.04449421\n",
      "Iteration 1: Log-Likelihood of labels = -29072.36524519\n",
      "Iteration 2: Log-Likelihood of labels = -28904.26378655\n",
      "Iteration 3: Log-Likelihood of labels = -28742.24392103\n",
      "Iteration 4: Log-Likelihood of labels = -28585.90589338\n",
      "Iteration 5: Log-Likelihood of labels = -28434.91320577\n",
      "Iteration 6: Log-Likelihood of labels = -28288.97267326\n",
      "Iteration 7: Log-Likelihood of labels = -28147.82224814\n",
      "Iteration 8: Log-Likelihood of labels = -28011.22343325\n",
      "Iteration 9: Log-Likelihood of labels = -27878.95643699\n",
      "Iteration 10: Log-Likelihood of labels = -27750.81698532\n",
      "Iteration 11: Log-Likelihood of labels = -27626.61414555\n",
      "Iteration 12: Log-Likelihood of labels = -27506.16877404\n",
      "Iteration 13: Log-Likelihood of labels = -27389.31235364\n",
      "Iteration 14: Log-Likelihood of labels = -27275.88607875\n",
      "Iteration 15: Log-Likelihood of labels = -27165.74010230\n",
      "Iteration 20: Log-Likelihood of labels = -26659.52190849\n",
      "Iteration 30: Log-Likelihood of labels = -25826.69110315\n",
      "Iteration 40: Log-Likelihood of labels = -25168.55902911\n",
      "Iteration 50: Log-Likelihood of labels = -24633.85437105\n",
      "Iteration 60: Log-Likelihood of labels = -24189.66977456\n",
      "Iteration 70: Log-Likelihood of labels = -23813.97229719\n",
      "Iteration 80: Log-Likelihood of labels = -23491.45844096\n",
      "Iteration 90: Log-Likelihood of labels = -23211.15781234\n",
      "Iteration 100: Log-Likelihood of labels = -22964.98983981\n",
      "Iteration 200: Log-Likelihood of labels = -21514.12019884\n",
      "Iteration 300: Log-Likelihood of labels = -20843.88960848\n",
      "Iteration 400: Log-Likelihood of labels = -20458.18144148\n",
      "Iteration 500: Log-Likelihood of labels = -20210.04886520\n",
      "Iteration 0: Log-Likelihood of labels = -29247.12720112\n",
      "Iteration 1: Log-Likelihood of labels = -29072.84771835\n",
      "Iteration 2: Log-Likelihood of labels = -28905.43803939\n",
      "Iteration 3: Log-Likelihood of labels = -28744.38001827\n",
      "Iteration 4: Log-Likelihood of labels = -28589.25420487\n",
      "Iteration 5: Log-Likelihood of labels = -28439.70617413\n",
      "Iteration 6: Log-Likelihood of labels = -28295.42628647\n",
      "Iteration 7: Log-Likelihood of labels = -28156.13732054\n",
      "Iteration 8: Log-Likelihood of labels = -28021.58675132\n",
      "Iteration 9: Log-Likelihood of labels = -27891.54180097\n",
      "Iteration 10: Log-Likelihood of labels = -27765.78616417\n",
      "Iteration 11: Log-Likelihood of labels = -27644.11775586\n",
      "Iteration 12: Log-Likelihood of labels = -27526.34709004\n",
      "Iteration 13: Log-Likelihood of labels = -27412.29605385\n",
      "Iteration 14: Log-Likelihood of labels = -27301.79693423\n",
      "Iteration 15: Log-Likelihood of labels = -27194.69161072\n",
      "Iteration 20: Log-Likelihood of labels = -26705.12800187\n",
      "Iteration 30: Log-Likelihood of labels = -25910.70135790\n",
      "Iteration 40: Log-Likelihood of labels = -25294.78420649\n",
      "Iteration 50: Log-Likelihood of labels = -24804.00813088\n",
      "Iteration 60: Log-Likelihood of labels = -24404.29058189\n",
      "Iteration 70: Log-Likelihood of labels = -24072.91284383\n",
      "Iteration 80: Log-Likelihood of labels = -23794.16089751\n",
      "Iteration 90: Log-Likelihood of labels = -23556.81609696\n",
      "Iteration 100: Log-Likelihood of labels = -23352.64897914\n",
      "Iteration 200: Log-Likelihood of labels = -22262.77546891\n",
      "Iteration 300: Log-Likelihood of labels = -21860.32913705\n",
      "Iteration 400: Log-Likelihood of labels = -21675.62036608\n",
      "Iteration 500: Log-Likelihood of labels = -21580.99968657\n",
      "Iteration 0: Log-Likelihood of labels = -29247.95427027\n",
      "Iteration 1: Log-Likelihood of labels = -29077.64029690\n",
      "Iteration 2: Log-Likelihood of labels = -28917.02542702\n",
      "Iteration 3: Log-Likelihood of labels = -28765.32120242\n",
      "Iteration 4: Log-Likelihood of labels = -28621.86704429\n",
      "Iteration 5: Log-Likelihood of labels = -28486.09085307\n",
      "Iteration 6: Log-Likelihood of labels = -28357.48513574\n",
      "Iteration 7: Log-Likelihood of labels = -28235.59214679\n",
      "Iteration 8: Log-Likelihood of labels = -28119.99430985\n",
      "Iteration 9: Log-Likelihood of labels = -28010.30777754\n",
      "Iteration 10: Log-Likelihood of labels = -27906.17788888\n",
      "Iteration 11: Log-Likelihood of labels = -27807.27579816\n",
      "Iteration 12: Log-Likelihood of labels = -27713.29584634\n",
      "Iteration 13: Log-Likelihood of labels = -27623.95341938\n",
      "Iteration 14: Log-Likelihood of labels = -27538.98313975\n",
      "Iteration 15: Log-Likelihood of labels = -27458.13729715\n",
      "Iteration 20: Log-Likelihood of labels = -27108.17774824\n",
      "Iteration 30: Log-Likelihood of labels = -26612.86791590\n",
      "Iteration 40: Log-Likelihood of labels = -26295.60238919\n",
      "Iteration 50: Log-Likelihood of labels = -26087.33694994\n",
      "Iteration 60: Log-Likelihood of labels = -25947.93660842\n",
      "Iteration 70: Log-Likelihood of labels = -25853.14797236\n",
      "Iteration 80: Log-Likelihood of labels = -25787.84983304\n",
      "Iteration 90: Log-Likelihood of labels = -25742.37252732\n",
      "Iteration 100: Log-Likelihood of labels = -25710.40246347\n",
      "Iteration 200: Log-Likelihood of labels = -25632.31476257\n",
      "Iteration 300: Log-Likelihood of labels = -25628.66191021\n",
      "Iteration 400: Log-Likelihood of labels = -25628.43694104\n",
      "Iteration 500: Log-Likelihood of labels = -25628.42085589\n",
      "Iteration 0: Log-Likelihood of labels = -29338.93187643\n",
      "Iteration 1: Log-Likelihood of labels = -29338.80494449\n",
      "Iteration 2: Log-Likelihood of labels = -29338.76486995\n",
      "Iteration 3: Log-Likelihood of labels = -29338.73045403\n"
     ]
    },
    {
     "name": "stdout",
     "output_type": "stream",
     "text": [
      "Iteration 4: Log-Likelihood of labels = -29338.69937216\n",
      "Iteration 5: Log-Likelihood of labels = -29338.67123373\n",
      "Iteration 6: Log-Likelihood of labels = -29338.64575709\n",
      "Iteration 7: Log-Likelihood of labels = -29338.62269033\n",
      "Iteration 8: Log-Likelihood of labels = -29338.60180549\n",
      "Iteration 9: Log-Likelihood of labels = -29338.58289618\n",
      "Iteration 10: Log-Likelihood of labels = -29338.56577552\n",
      "Iteration 11: Log-Likelihood of labels = -29338.55027433\n",
      "Iteration 12: Log-Likelihood of labels = -29338.53623941\n",
      "Iteration 13: Log-Likelihood of labels = -29338.52353208\n",
      "Iteration 14: Log-Likelihood of labels = -29338.51202675\n",
      "Iteration 15: Log-Likelihood of labels = -29338.50160973\n",
      "Iteration 20: Log-Likelihood of labels = -29338.46256819\n",
      "Iteration 30: Log-Likelihood of labels = -29338.42435988\n",
      "Iteration 40: Log-Likelihood of labels = -29338.41021478\n",
      "Iteration 50: Log-Likelihood of labels = -29338.40497812\n",
      "Iteration 60: Log-Likelihood of labels = -29338.40303944\n",
      "Iteration 70: Log-Likelihood of labels = -29338.40232172\n",
      "Iteration 80: Log-Likelihood of labels = -29338.40205601\n",
      "Iteration 90: Log-Likelihood of labels = -29338.40195765\n",
      "Iteration 100: Log-Likelihood of labels = -29338.40192123\n",
      "Iteration 200: Log-Likelihood of labels = -29338.40189982\n",
      "Iteration 300: Log-Likelihood of labels = -29338.40189982\n",
      "Iteration 400: Log-Likelihood of labels = -29338.40189982\n",
      "Iteration 500: Log-Likelihood of labels = -29338.40189982\n"
     ]
    }
   ],
   "source": [
    "#Running our logistic regression algorithm with penalties 0,4,10,100,1000 and 100000.\n",
    "\n",
    "coefficients_0_penalty=logistic_regression_with_L2(feature_matrix_train,sentiment_train,np.zeros(feature_matrix_train.shape[1]),5e-6,0,501)\n",
    "\n",
    "coefficients_4_penalty=logistic_regression_with_L2(feature_matrix_train,sentiment_train,np.zeros(feature_matrix_train.shape[1]),5e-6,4,501)\n",
    "\n",
    "coefficients_10_penalty=logistic_regression_with_L2(feature_matrix_train,sentiment_train,np.zeros(feature_matrix_train.shape[1]),5e-6,10,501)\n",
    "\n",
    "coefficients_1e2_penalty=logistic_regression_with_L2(feature_matrix_train,sentiment_train,np.zeros(feature_matrix_train.shape[1]),5e-6,1e2,501)\n",
    "\n",
    "coefficients_1e3_penalty=logistic_regression_with_L2(feature_matrix_train,sentiment_train,np.zeros(feature_matrix_train.shape[1]),5e-6,1e3,501)\n",
    "\n",
    "coefficients_1e5_penalty=logistic_regression_with_L2(feature_matrix_train,sentiment_train,np.zeros(feature_matrix_train.shape[1]),5e-6,1e5,501)\n"
   ]
  },
  {
   "cell_type": "code",
   "execution_count": 30,
   "metadata": {},
   "outputs": [
    {
     "name": "stdout",
     "output_type": "stream",
     "text": [
      "        word               penalty_0              penalty_4  \\\n",
      "0  intercept    -0.07747364584000817    -0.0768159713695815   \n",
      "1       baby     0.08218736962678481    0.08205164763623093   \n",
      "2        one  -0.0016256104715037236  -0.001784448890022247   \n",
      "3      great      0.7960972922453035      0.791405283507047   \n",
      "4       love      1.0417886766023619     1.0342538251289062   \n",
      "\n",
      "              penalty_10             penalty_1e2            penalty_1e3  \\\n",
      "0   -0.07584225648738314    -0.06290134476502887  -0.008395649353021182   \n",
      "1    0.08185182724407426     0.07927993157145238    0.06335330041020806   \n",
      "2  -0.002018275707979525  -0.0049744914402345295  -0.014022549006208482   \n",
      "3     0.7844964130623877      0.6966461903175682     0.3737955725231723   \n",
      "4     1.0231668912503555       0.883281276085375     0.4141302271922794   \n",
      "\n",
      "              penalty_1e5  \n",
      "0    0.009861368051486026  \n",
      "1    0.002044130255530082  \n",
      "2  -0.0019415943786970523  \n",
      "3    0.008946703765478495  \n",
      "4    0.009016301964254509  \n"
     ]
    }
   ],
   "source": [
    "#Creating a table of coefficients of all penalties, i.e. for each word it's coeffecient or weight under each penalty.\n",
    "\n",
    "important_words=np.array(important_words)\n",
    "important_words=important_words.reshape(-1,1)\n",
    "coefficients_0_penalty= coefficients_0_penalty.reshape(-1,1)\n",
    "coefficients_4_penalty=coefficients_4_penalty.reshape(-1,1)\n",
    "coefficients_10_penalty=coefficients_10_penalty.reshape(-1,1)\n",
    "coefficients_1e2_penalty=coefficients_1e2_penalty.reshape(-1,1)\n",
    "coefficients_1e3_penalty=coefficients_1e3_penalty.reshape(-1,1)\n",
    "coefficients_1e5_penalty=coefficients_1e5_penalty.reshape(-1,1)\n",
    "\n",
    "tmp5=np.append(important_words,coefficients_0_penalty,axis=1)\n",
    "tmp5=np.append(tmp5,coefficients_4_penalty,axis=1)\n",
    "tmp5=np.append(tmp5,coefficients_10_penalty,axis=1)\n",
    "tmp5=np.append(tmp5,coefficients_1e2_penalty,axis=1)\n",
    "tmp5=np.append(tmp5,coefficients_1e3_penalty,axis=1)\n",
    "tmp5=np.append(tmp5,coefficients_1e5_penalty,axis=1)\n",
    "\n",
    "labels=np.array([['word'],['penalty_0'],['penalty_4'],['penalty_10'],['penalty_1e2'],['penalty_1e3'],['penalty_1e5']])\n",
    "labels=labels.reshape(1,7)\n",
    "table_of_coefficients=np.append(labels,tmp5,axis=0)\n",
    "print(pd.DataFrame(table_of_coefficients[1:,:],columns=table_of_coefficients[0,:]).head())\n"
   ]
  },
  {
   "cell_type": "code",
   "execution_count": 28,
   "metadata": {},
   "outputs": [
    {
     "name": "stdout",
     "output_type": "stream",
     "text": [
      "Most positive 5 words are \n",
      " [['great' '0.7960972922453035']\n",
      " ['perfect' '0.8411828746338492']\n",
      " ['easy' '0.9566456799632408']\n",
      " ['love' '1.0417886766023619']\n",
      " ['loves' '1.053750588888327']]\n",
      "Most negative 5 words are\n",
      " [['disappointed' '-0.9547515958451419']\n",
      " ['money' '-0.750194069833133']\n",
      " ['return' '-0.7495688513053473']\n",
      " ['waste' '-0.6320287421810138']\n",
      " ['returned' '-0.5904882133279337']]\n"
     ]
    }
   ],
   "source": [
    "#For example\n",
    "#Most positive and negative words in 0 penalty\n",
    "tmp6=table_of_coefficients[1:,:2]\n",
    "#data needs to be in float for argsort to evaluate negative values\n",
    "tmp6=tmp6[np.argsort(tmp6[:,1].astype(float))]\n",
    "positive_words=tmp6[-5:,:]\n",
    "print(\"Most positive 5 words are \\n\",positive_words)\n",
    "negative_words=tmp6[:5,:]\n",
    "print(\"Most negative 5 words are\\n\",negative_words)"
   ]
  },
  {
   "cell_type": "markdown",
   "metadata": {},
   "source": [
    "### Plotting"
   ]
  },
  {
   "cell_type": "code",
   "execution_count": 32,
   "metadata": {},
   "outputs": [
    {
     "data": {
      "image/png": "[encoded data removed]",
      "text/plain": [
       "<Figure size 432x288 with 1 Axes>"
      ]
     },
     "metadata": {
      "needs_background": "light"
     },
     "output_type": "display_data"
    }
   ],
   "source": [
    "def make_coefficient_plot(table,positive_words,negative_words,l2_penalty_list):\n",
    "    cmap_positive=plt.get_cmap('Greens')\n",
    "    cmap_negative=plt.get_cmap('Reds')\n",
    "    \n",
    "    xx=l2_penalty_list\n",
    "    plt.plot(xx,[0.0]*len(xx),'--',lw=5,color='k')\n",
    "    \n",
    "    table_positive_words=table[table['word'].isin(positive_words)]\n",
    "    table_negative_words=table[table['word'].isin(negative_words)]\n",
    "    del table_positive_words['word']\n",
    "    del table_negative_words['word']\n",
    "    \n",
    "    \n",
    "    for i in range(len(positive_words)):\n",
    "        color=cmap_positive(0.8*((i+1)/(len(positive_words)*1.2)+0.15))\n",
    "        plt.plot(xx,table_positive_words[i:i+1].to_numpy().astype(float).flatten(),'-',label=positive_words[i],lw=3.0,color=color)\n",
    "        \n",
    "    for i in range(len(negative_words)):\n",
    "        color=cmap_negative(0.8*((i+1)/(len(negative_words)*1.2)+0.15))\n",
    "        plt.plot(xx,table_negative_words[i:i+1].to_numpy().astype(float).flatten(),'-',label=negative_words[i],lw=3.0,color=color)\n",
    "                \n",
    "    plt.legend(loc='best',ncol=3,prop={'size':10},columnspacing=0.5)\n",
    "    #plt.axis([1,1e5,-1,2])\n",
    "    plt.title('coefficient path')\n",
    "    plt.xlabel('L2 penalty ($\\lambda$)')\n",
    "    plt.ylabel('coefficient value')\n",
    "    plt.xscale('log')\n",
    "    plt.rcParams.update({'font.size':10})\n",
    "    plt.tight_layout()\n",
    "    \n",
    "table_df=pd.DataFrame(table_of_coefficients[1:,:],columns=table_of_coefficients[0,:])\n",
    "make_coefficient_plot(table_df,positive_words[:,0],negative_words[:,0],l2_penalty_list=[0,4,10,1e2,1e3,1e5])\n"
   ]
  },
  {
   "cell_type": "markdown",
   "metadata": {},
   "source": [
    "### Accuracy"
   ]
  },
  {
   "cell_type": "code",
   "execution_count": 33,
   "metadata": {},
   "outputs": [],
   "source": [
    "def accuracy(feature_matrix,coefficients,sentiments,penalty_value):\n",
    "    \n",
    "    score=np.dot(feature_matrix,coefficients)\n",
    "    tmp7=pd.Series(score.reshape(len(score[:,0],))).apply(lambda x: +1 if x>0 else -1)\n",
    "    correctclasses=0\n",
    "    for i in range(len(tmp7)):\n",
    "        if tmp7[i]==sentiments[i]:\n",
    "            correctclasses=correctclasses+1\n",
    "    accuracy=correctclasses/len(tmp7)\n",
    "    print(\"Accuracy of penalty value\",penalty_value,\"coefficients is\",accuracy)\n",
    "    return accuracy\n"
   ]
  },
  {
   "cell_type": "code",
   "execution_count": 34,
   "metadata": {},
   "outputs": [
    {
     "name": "stdout",
     "output_type": "stream",
     "text": [
      "Accuracy of penalty value 0 coefficients is 0.7829333207716042\n",
      "Accuracy of penalty value 4 coefficients is 0.7829097675295005\n",
      "Accuracy of penalty value 10 coefficients is 0.7827213415926703\n",
      "Accuracy of penalty value 100.0 coefficients is 0.7814259132769625\n",
      "Accuracy of penalty value 1000.0 coefficients is 0.7709211672986787\n",
      "Accuracy of penalty value 100000.0 coefficients is 0.6879430953670773\n"
     ]
    }
   ],
   "source": [
    "# Accuracy on training data\n",
    "\n",
    "acc_train_0penalty= accuracy(feature_matrix_train,coefficients_0_penalty,sentiment_train,0)\n",
    "acc_train_4penalty= accuracy(feature_matrix_train,coefficients_4_penalty,sentiment_train,4)\n",
    "acc_train_10penalty= accuracy(feature_matrix_train,coefficients_10_penalty,sentiment_train,10)\n",
    "acc_train_1e2penalty= accuracy(feature_matrix_train,coefficients_1e2_penalty,sentiment_train,1e2)\n",
    "acc_train_1e3penalty= accuracy(feature_matrix_train,coefficients_1e3_penalty,sentiment_train,1e3)\n",
    "acc_train_1e5penalty= accuracy(feature_matrix_train,coefficients_1e5_penalty,sentiment_train,1e5)\n"
   ]
  },
  {
   "cell_type": "code",
   "execution_count": 36,
   "metadata": {},
   "outputs": [
    {
     "name": "stdout",
     "output_type": "stream",
     "text": [
      "Accuracy of penalty value 0 coefficients is 0.7929345266132831\n",
      "Accuracy of penalty value 4 coefficients is 0.7927461139896373\n",
      "Accuracy of penalty value 10 coefficients is 0.7923692887423457\n",
      "Accuracy of penalty value 100.0 coefficients is 0.7909561940650024\n",
      "Accuracy of penalty value 1000.0 coefficients is 0.7845501648610457\n",
      "Accuracy of penalty value 100000.0 coefficients is 0.6947715496938295\n"
     ]
    }
   ],
   "source": [
    "# Accuracy on test data\n",
    "\n",
    "acc_test_0penalty= accuracy(feature_matrix_test,coefficients_0_penalty,sentiment_test,0)\n",
    "acc_test_4penalty= accuracy(feature_matrix_test,coefficients_4_penalty,sentiment_test,4)\n",
    "acc_test_10penalty= accuracy(feature_matrix_test,coefficients_10_penalty,sentiment_test,10)\n",
    "acc_test_1e2penalty= accuracy(feature_matrix_test,coefficients_1e2_penalty,sentiment_test,1e2)\n",
    "acc_test_1e3penalty= accuracy(feature_matrix_test,coefficients_1e3_penalty,sentiment_test,1e3)\n",
    "acc_test_1e5penalty= accuracy(feature_matrix_test,coefficients_1e5_penalty,sentiment_test,1e5)\n"
   ]
  },
  {
   "cell_type": "code",
   "execution_count": null,
   "metadata": {},
   "outputs": [],
   "source": []
  }
 ],
 "metadata": {
  "kernelspec": {
   "display_name": "Python 3",
   "language": "python",
   "name": "python3"
  },
  "language_info": {
   "codemirror_mode": {
    "name": "ipython",
    "version": 3
   },
   "file_extension": ".py",
   "mimetype": "text/x-python",
   "name": "python",
   "nbconvert_exporter": "python",
   "pygments_lexer": "ipython3",
   "version": "3.7.4"
  }
 },
 "nbformat": 4,
 "nbformat_minor": 2
}
